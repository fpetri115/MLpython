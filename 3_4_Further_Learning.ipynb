{
 "cells": [
  {
   "cell_type": "markdown",
   "id": "9115a5d8",
   "metadata": {},
   "source": [
    "# Machine Learning with Python"
   ]
  },
  {
   "cell_type": "markdown",
   "id": "968157ed",
   "metadata": {},
   "source": [
    "## 3.4 Further Learning\n",
    "\n",
    "In this course we have looked at some of the basics of scikit-learn. However, there are many more models and functions within this library than we can cover, and a huge variety of other libraries for more specialised machine learning tasks.\n",
    "\n",
    "For deep learning tasks, the `keras` library offers a scikit-type interface.\n",
    "\n",
    "https://www.tensorflow.org/api_docs/python/tf/keras\n"
   ]
  },
  {
   "cell_type": "markdown",
   "id": "d33407bf",
   "metadata": {},
   "source": [
    "\n",
    "\n",
    "\n",
    "Other suggestions for further resources are collected here:\n",
    "\n",
    "https://scikit-learn.org/stable/related_projects.html\n"
   ]
  }
 ],
 "metadata": {
  "kernelspec": {
   "display_name": "Python 3 (ipykernel)",
   "language": "python",
   "name": "python3"
  },
  "language_info": {
   "codemirror_mode": {
    "name": "ipython",
    "version": 3
   },
   "file_extension": ".py",
   "mimetype": "text/x-python",
   "name": "python",
   "nbconvert_exporter": "python",
   "pygments_lexer": "ipython3",
   "version": "3.9.12"
  }
 },
 "nbformat": 4,
 "nbformat_minor": 5
}
