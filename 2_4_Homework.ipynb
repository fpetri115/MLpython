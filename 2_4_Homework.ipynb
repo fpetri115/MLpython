{
 "cells": [
  {
   "cell_type": "markdown",
   "id": "f0ac7187",
   "metadata": {},
   "source": [
    "# Machine Learning with Python"
   ]
  },
  {
   "cell_type": "markdown",
   "id": "e9bcfa52",
   "metadata": {},
   "source": [
    "## 2.4 Homework"
   ]
  },
  {
   "cell_type": "markdown",
   "id": "88e42aa1",
   "metadata": {},
   "source": [
    "### 1\n",
    "\n",
    "Train a classification or regression method on your chosen dataset."
   ]
  },
  {
   "cell_type": "code",
   "execution_count": null,
   "id": "c555cd4d",
   "metadata": {},
   "outputs": [],
   "source": []
  },
  {
   "cell_type": "markdown",
   "id": "0cf7c7ae",
   "metadata": {},
   "source": [
    "### 2\n",
    "Evaluate your model using cross-validation."
   ]
  },
  {
   "cell_type": "code",
   "execution_count": null,
   "id": "8d991eff",
   "metadata": {},
   "outputs": [],
   "source": []
  },
  {
   "cell_type": "markdown",
   "id": "1c006024",
   "metadata": {},
   "source": [
    "### 3\n",
    "Using your cross-validation results, can you tune your model's hyperparameters to improve performance?"
   ]
  },
  {
   "cell_type": "markdown",
   "id": "e045a1b9",
   "metadata": {},
   "source": []
  }
 ],
 "metadata": {
  "kernelspec": {
   "display_name": "Python 3 (ipykernel)",
   "language": "python",
   "name": "python3"
  },
  "language_info": {
   "codemirror_mode": {
    "name": "ipython",
    "version": 3
   },
   "file_extension": ".py",
   "mimetype": "text/x-python",
   "name": "python",
   "nbconvert_exporter": "python",
   "pygments_lexer": "ipython3",
   "version": "3.9.12"
  }
 },
 "nbformat": 4,
 "nbformat_minor": 5
}
