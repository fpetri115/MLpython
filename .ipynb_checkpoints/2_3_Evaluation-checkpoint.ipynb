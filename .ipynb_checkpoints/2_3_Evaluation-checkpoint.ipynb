{
 "cells": [
  {
   "cell_type": "markdown",
   "id": "7732c25c",
   "metadata": {},
   "source": [
    "# Machine Learning with Python"
   ]
  },
  {
   "cell_type": "code",
   "execution_count": 1,
   "id": "7673f9aa",
   "metadata": {},
   "outputs": [],
   "source": [
    "import matplotlib.pyplot as plt\n",
    "import numpy as np"
   ]
  },
  {
   "cell_type": "markdown",
   "id": "9fe9b7e1",
   "metadata": {},
   "source": [
    "## 2.3 Evaluation"
   ]
  },
  {
   "cell_type": "markdown",
   "id": "44aadb01",
   "metadata": {},
   "source": [
    "There are many metrics that we may want to use to evaluate performance of supervised learning."
   ]
  },
  {
   "cell_type": "markdown",
   "id": "1378caf7",
   "metadata": {},
   "source": [
    "### [Evaluating Classifiers](https://scikit-learn.org/stable/modules/model_evaluation.html#classification-metrics)"
   ]
  },
  {
   "cell_type": "markdown",
   "id": "83a2d08f",
   "metadata": {},
   "source": [
    "`sklearn.metrics` provides most of the commonly-used metrics, see [documentation](https://scikit-learn.org/stable/modules/classes.html#module-sklearn.metrics).\n",
    "\n",
    "Some of these are restricted to binary classifiers, but others are also defined for multiclass (several possible values for `y`) and/or multilabel (potential for multiple simultaneous values for `y`) problems. "
   ]
  },
  {
   "cell_type": "code",
   "execution_count": 2,
   "id": "8cc444c0",
   "metadata": {},
   "outputs": [
    {
     "data": {
      "text/plain": [
       "SVC(probability=True, random_state=42)"
      ]
     },
     "execution_count": 2,
     "metadata": {},
     "output_type": "execute_result"
    }
   ],
   "source": [
    "from sklearn.model_selection import train_test_split\n",
    "from sklearn.svm import SVC\n",
    "from sklearn.metrics import RocCurveDisplay\n",
    "from sklearn.datasets import load_breast_cancer\n",
    "\n",
    "cancer = load_breast_cancer()\n",
    "X_train, X_test, y_train, y_test = train_test_split(cancer.data, cancer.target, random_state=42)\n",
    "svc = SVC(probability=True, random_state=42)\n",
    "svc.fit(X_train, y_train)"
   ]
  },
  {
   "cell_type": "code",
   "execution_count": 3,
   "id": "2f7de4fe",
   "metadata": {},
   "outputs": [],
   "source": [
    "y_pred = svc.predict(X_test)"
   ]
  },
  {
   "cell_type": "code",
   "execution_count": 4,
   "id": "0b9f7a54",
   "metadata": {},
   "outputs": [
    {
     "name": "stdout",
     "output_type": "stream",
     "text": [
      "              precision    recall  f1-score   support\n",
      "\n",
      "           0       0.98      0.89      0.93        54\n",
      "           1       0.94      0.99      0.96        89\n",
      "\n",
      "    accuracy                           0.95       143\n",
      "   macro avg       0.96      0.94      0.95       143\n",
      "weighted avg       0.95      0.95      0.95       143\n",
      "\n"
     ]
    }
   ],
   "source": [
    "from sklearn.metrics import classification_report\n",
    "print( classification_report(y_test,y_pred) )"
   ]
  },
  {
   "cell_type": "markdown",
   "id": "fb2ae0fb",
   "metadata": {},
   "source": [
    "The receiver-operating characteristic (ROC) curve gives a useful visual evaluation for any method that can return probabilities or prediction scores. The `roc_curve` method works for binary classification:"
   ]
  },
  {
   "cell_type": "code",
   "execution_count": 5,
   "id": "22cecad0",
   "metadata": {},
   "outputs": [],
   "source": [
    "from sklearn.metrics import roc_curve\n",
    "\n",
    "probs = svc.predict_proba(X_test)\n",
    "fpr,tpr,thresholds = roc_curve(y_test,probs[:,1])"
   ]
  },
  {
   "cell_type": "code",
   "execution_count": 6,
   "id": "edb2d010",
   "metadata": {},
   "outputs": [
    {
     "data": {
      "image/png": "[encoded data removed]",
      "text/plain": [
       "<Figure size 432x288 with 1 Axes>"
      ]
     },
     "metadata": {
      "needs_background": "light"
     },
     "output_type": "display_data"
    }
   ],
   "source": [
    "plt.plot(fpr,tpr)\n",
    "plt.xlabel(\"False Positive Rate\")\n",
    "plt.ylabel(\"True Positive Rate\")\n",
    "plt.show()"
   ]
  },
  {
   "cell_type": "markdown",
   "id": "45b2ee47",
   "metadata": {},
   "source": [
    "We can also get the area under the curve (AUC) as a metric:"
   ]
  },
  {
   "cell_type": "code",
   "execution_count": 7,
   "id": "4fd3916f",
   "metadata": {},
   "outputs": [
    {
     "name": "stdout",
     "output_type": "stream",
     "text": [
      "AUC = 0.9927174365376612\n"
     ]
    }
   ],
   "source": [
    "from sklearn.metrics import roc_auc_score\n",
    "auc = roc_auc_score(y_test,probs[:,1])\n",
    "print(\"AUC =\",auc)"
   ]
  },
  {
   "cell_type": "markdown",
   "id": "6457e407",
   "metadata": {},
   "source": [
    "The precision-recall (PR) curve is also a useful evaluation for tasks where we are most interested in eliminating false positives, e.g. screening a population for a disease."
   ]
  },
  {
   "cell_type": "code",
   "execution_count": 8,
   "id": "52852d6b",
   "metadata": {},
   "outputs": [],
   "source": [
    "from sklearn.metrics import precision_recall_curve\n",
    "\n",
    "pre,rec,thresholds = precision_recall_curve(y_test,probs[:,1])"
   ]
  },
  {
   "cell_type": "code",
   "execution_count": 9,
   "id": "55d1d0d5",
   "metadata": {},
   "outputs": [
    {
     "data": {
      "image/png": "[encoded data removed]",
      "text/plain": [
       "<Figure size 432x288 with 1 Axes>"
      ]
     },
     "metadata": {
      "needs_background": "light"
     },
     "output_type": "display_data"
    }
   ],
   "source": [
    "plt.plot(rec,pre)\n",
    "plt.xlabel(\"Recall\")\n",
    "plt.ylabel(\"Precision\")\n",
    "plt.show()"
   ]
  },
  {
   "cell_type": "markdown",
   "id": "ff00520b",
   "metadata": {},
   "source": [
    "The [weighted average precision](https://scikit-learn.org/stable/modules/generated/sklearn.metrics.average_precision_score.html#sklearn.metrics.average_precision_score) over this curve is often quoted as a metric:"
   ]
  },
  {
   "cell_type": "code",
   "execution_count": 10,
   "id": "85e9b38c",
   "metadata": {},
   "outputs": [
    {
     "name": "stdout",
     "output_type": "stream",
     "text": [
      "Average precision = 0.9956004113719061\n"
     ]
    }
   ],
   "source": [
    "from sklearn.metrics import average_precision_score\n",
    "avg_pre = average_precision_score(y_test, probs[:,1])\n",
    "print(\"Average precision =\",avg_pre)"
   ]
  },
  {
   "cell_type": "markdown",
   "id": "7be307dd",
   "metadata": {},
   "source": [
    "### [Evaluating Regressors](https://scikit-learn.org/stable/modules/model_evaluation.html#regression-metrics)\n",
    "\n",
    "Once again, there are several metrics for evaluation of regression - the user guide has full details for each one."
   ]
  },
  {
   "cell_type": "code",
   "execution_count": 11,
   "id": "0a4ab006",
   "metadata": {},
   "outputs": [],
   "source": [
    "from sklearn.datasets import load_diabetes\n",
    "from sklearn.model_selection import train_test_split\n",
    "diabetes = load_diabetes()\n",
    "X_train, X_test, y_train, y_test = train_test_split(diabetes.data, diabetes.target, random_state=0)"
   ]
  },
  {
   "cell_type": "code",
   "execution_count": 12,
   "id": "99f73445",
   "metadata": {},
   "outputs": [
    {
     "data": {
      "text/plain": [
       "MLPRegressor(hidden_layer_sizes=100, max_iter=10000)"
      ]
     },
     "execution_count": 12,
     "metadata": {},
     "output_type": "execute_result"
    }
   ],
   "source": [
    "from sklearn.neural_network import MLPRegressor\n",
    "nn = MLPRegressor(hidden_layer_sizes=(100),max_iter=10000)\n",
    "nn.fit(X_train,y_train)"
   ]
  },
  {
   "cell_type": "code",
   "execution_count": 13,
   "id": "9c665b61",
   "metadata": {},
   "outputs": [],
   "source": [
    "y_pred = nn.predict(X_test)"
   ]
  },
  {
   "cell_type": "code",
   "execution_count": 14,
   "id": "c63725c4",
   "metadata": {},
   "outputs": [
    {
     "name": "stdout",
     "output_type": "stream",
     "text": [
      "Mean Absolute Error, MAE = 45.32\n",
      "Mean squared error, MSE = 3204.78\n",
      "Max Error = 159.34\n",
      "Explained Variance Score = 0.36\n",
      "Coefficient of determination, r2 = 0.35\n"
     ]
    }
   ],
   "source": [
    "from sklearn.metrics import mean_absolute_error,mean_squared_error,max_error,explained_variance_score,r2_score\n",
    "\n",
    "print(\"Mean Absolute Error, MAE = %.2f\" % mean_absolute_error(y_test, y_pred))\n",
    "print(\"Mean squared error, MSE = %.2f\" % mean_squared_error(y_test, y_pred))\n",
    "print(\"Max Error = %.2f\" % max_error(y_test, y_pred))\n",
    "print(\"Explained Variance Score = %.2f\" % explained_variance_score(y_test, y_pred))\n",
    "print(\"Coefficient of determination, r2 = %.2f\" % r2_score(y_test, y_pred))\n"
   ]
  },
  {
   "cell_type": "markdown",
   "id": "42140fa2",
   "metadata": {},
   "source": [
    "### [Cross-validation](https://scikit-learn.org/stable/modules/cross_validation.html)\n",
    "\n",
    "Cross-validation is essential in model development - it allows us to compare the performance of alternative algorithms and different settings for model hyperparameters, *without* making use of the test data. This is very important so that we can obtain an accurate assessment of the final model performance."
   ]
  },
  {
   "cell_type": "markdown",
   "id": "696df8d8",
   "metadata": {},
   "source": [
    "`KFold` is a simple way to get the data indices for cross-validation, which we can loop over:"
   ]
  },
  {
   "cell_type": "code",
   "execution_count": 15,
   "id": "693ccc17",
   "metadata": {},
   "outputs": [],
   "source": [
    "# Using only the first 100 data points\n",
    "X = diabetes.data[:100]\n",
    "y = diabetes.target[:100]"
   ]
  },
  {
   "cell_type": "code",
   "execution_count": 16,
   "id": "990a1771",
   "metadata": {},
   "outputs": [],
   "source": [
    "from sklearn.model_selection import KFold\n",
    "kf = KFold(n_splits=5,shuffle=True,random_state=42)"
   ]
  },
  {
   "cell_type": "code",
   "execution_count": 17,
   "id": "7edb0e09",
   "metadata": {},
   "outputs": [
    {
     "name": "stdout",
     "output_type": "stream",
     "text": [
      "training set indices:\n",
      "[ 1  2  3  5  6  7  8  9 11 13 14 15 16 17 19 20 21 23 24 25 26 27 28 29\n",
      " 32 34 35 36 37 38 40 41 42 43 46 47 48 49 50 51 52 54 55 56 57 58 59 60\n",
      " 61 62 63 64 65 66 67 68 69 71 72 74 75 78 79 81 82 84 85 86 87 88 89 91\n",
      " 92 93 94 95 96 97 98 99]\n",
      "test set indices:\n",
      "[ 0  4 10 12 18 22 30 31 33 39 44 45 53 70 73 76 77 80 83 90]\n",
      "r2 = 0.32\n",
      "\n",
      "training set indices:\n",
      "[ 0  1  2  3  4  6  7  8 10 12 13 14 17 18 19 20 21 22 23 24 25 27 29 30\n",
      " 31 32 33 34 36 37 38 39 41 43 44 45 46 48 49 50 51 52 53 54 56 57 58 59\n",
      " 60 61 62 63 64 67 68 70 71 73 74 75 76 77 78 79 80 81 82 83 84 86 87 89\n",
      " 90 91 92 94 95 97 98 99]\n",
      "test set indices:\n",
      "[ 5  9 11 15 16 26 28 35 40 42 47 55 65 66 69 72 85 88 93 96]\n",
      "r2 = 0.48\n",
      "\n",
      "training set indices:\n",
      "[ 0  1  2  4  5  9 10 11 12 14 15 16 18 20 21 22 23 26 28 29 30 31 32 33\n",
      " 35 37 39 40 41 42 43 44 45 46 47 48 50 51 52 53 54 55 56 57 58 59 60 61\n",
      " 63 65 66 67 68 69 70 71 72 73 74 75 76 77 79 80 82 83 84 85 86 87 88 90\n",
      " 91 92 93 94 96 97 98 99]\n",
      "test set indices:\n",
      "[ 3  6  7  8 13 17 19 24 25 27 34 36 38 49 62 64 78 81 89 95]\n",
      "r2 = 0.39\n",
      "\n",
      "training set indices:\n",
      "[ 0  1  2  3  4  5  6  7  8  9 10 11 12 13 14 15 16 17 18 19 20 21 22 23\n",
      " 24 25 26 27 28 29 30 31 33 34 35 36 37 38 39 40 42 44 45 47 49 51 52 53\n",
      " 55 60 62 63 64 65 66 69 70 71 72 73 74 76 77 78 80 81 82 83 84 85 86 87\n",
      " 88 89 90 91 92 93 95 96]\n",
      "test set indices:\n",
      "[32 41 43 46 48 50 54 56 57 58 59 61 67 68 75 79 94 97 98 99]\n",
      "r2 = 0.10\n",
      "\n",
      "training set indices:\n",
      "[ 0  3  4  5  6  7  8  9 10 11 12 13 15 16 17 18 19 22 24 25 26 27 28 30\n",
      " 31 32 33 34 35 36 38 39 40 41 42 43 44 45 46 47 48 49 50 53 54 55 56 57\n",
      " 58 59 61 62 64 65 66 67 68 69 70 72 73 75 76 77 78 79 80 81 83 85 88 89\n",
      " 90 93 94 95 96 97 98 99]\n",
      "test set indices:\n",
      "[ 1  2 14 20 21 23 29 37 51 52 60 63 71 74 82 84 86 87 91 92]\n",
      "r2 = 0.22\n",
      "\n"
     ]
    }
   ],
   "source": [
    "from sklearn.linear_model import LinearRegression\n",
    "lm = LinearRegression()\n",
    "\n",
    "for train, test in kf.split(X):\n",
    "    print(\"training set indices:\")\n",
    "    print(train)\n",
    "    print(\"test set indices:\")\n",
    "    print(test)\n",
    "    lm.fit(X[train], y[train])\n",
    "    y_pred = lm.predict(X[test])\n",
    "    print(\"r2 = %.2f\" % r2_score(y[test],y_pred))\n",
    "    print()"
   ]
  },
  {
   "cell_type": "markdown",
   "id": "fbcb92c0",
   "metadata": {},
   "source": [
    "If we just want to calculate a metric, there is another convenient function `cross_val_score`."
   ]
  },
  {
   "cell_type": "code",
   "execution_count": 18,
   "id": "1848bf08",
   "metadata": {},
   "outputs": [
    {
     "name": "stdout",
     "output_type": "stream",
     "text": [
      "Cross-validated r2:\n",
      "[ 0.38915293  0.33103204 -0.12257031  0.32233159  0.09694787]\n"
     ]
    }
   ],
   "source": [
    "from sklearn.model_selection import cross_val_score\n",
    "lm = LinearRegression()\n",
    "score = cross_val_score( lm,X,y,cv=5,scoring='r2' )\n",
    "print(\"Cross-validated r2:\")\n",
    "print(score)"
   ]
  },
  {
   "cell_type": "markdown",
   "id": "9a819081",
   "metadata": {},
   "source": [
    "We would usually quote the mean score under cross-validation:"
   ]
  },
  {
   "cell_type": "code",
   "execution_count": 19,
   "id": "78e898d4",
   "metadata": {},
   "outputs": [
    {
     "name": "stdout",
     "output_type": "stream",
     "text": [
      "mean r2 = 0.20337882357438525\n"
     ]
    }
   ],
   "source": [
    "print(\"mean r2 =\", np.mean(score))"
   ]
  },
  {
   "cell_type": "markdown",
   "id": "d520832b",
   "metadata": {},
   "source": [
    "The standard deviation of the cross-validation scores is also useful as an estimate of the error compared to the true performance on unseen test data."
   ]
  },
  {
   "cell_type": "code",
   "execution_count": 20,
   "id": "5a7ce0f5",
   "metadata": {},
   "outputs": [
    {
     "name": "stdout",
     "output_type": "stream",
     "text": [
      "sd = 0.19106412992076321\n"
     ]
    }
   ],
   "source": [
    "print(\"sd =\", np.std(score))"
   ]
  },
  {
   "cell_type": "markdown",
   "id": "c4c0d3a1",
   "metadata": {},
   "source": [
    "In addition to the basic *k*-fold cross-validation, there are many alternative procedures that may be suitable depending on the structure of your particular data set. \n",
    "\n",
    "For example, there may be definable subgroups within the data that we might want to leave out of training one at a time, to assess how good the predictor is at extrapolating beyond known groups."
   ]
  },
  {
   "cell_type": "markdown",
   "id": "57330504",
   "metadata": {},
   "source": [
    "### Exercise"
   ]
  },
  {
   "cell_type": "markdown",
   "id": "c5f605a8",
   "metadata": {},
   "source": [
    "Use ROC curves to compare the performance of a Decision Tree and Logistic Regressor on the `breast_cancer` dataset."
   ]
  },
  {
   "cell_type": "code",
   "execution_count": null,
   "id": "b8e21a89",
   "metadata": {},
   "outputs": [],
   "source": []
  },
  {
   "cell_type": "markdown",
   "id": "6c8ee6b6",
   "metadata": {},
   "source": [
    "Use 5-fold cross-validation to evaluate your regressor for the `wine_quality_white` dataset."
   ]
  },
  {
   "cell_type": "markdown",
   "id": "cb9434c3",
   "metadata": {},
   "source": []
  }
 ],
 "metadata": {
  "kernelspec": {
   "display_name": "Python 3 (ipykernel)",
   "language": "python",
   "name": "python3"
  },
  "language_info": {
   "codemirror_mode": {
    "name": "ipython",
    "version": 3
   },
   "file_extension": ".py",
   "mimetype": "text/x-python",
   "name": "python",
   "nbconvert_exporter": "python",
   "pygments_lexer": "ipython3",
   "version": "3.9.12"
  }
 },
 "nbformat": 4,
 "nbformat_minor": 5
}
